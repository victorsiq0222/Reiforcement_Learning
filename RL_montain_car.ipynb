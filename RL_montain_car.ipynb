{
  "cells": [
    {
      "cell_type": "code",
      "execution_count": null,
      "metadata": {
        "colab": {
          "base_uri": "https://localhost:8080/"
        },
        "id": "IK9wi7GshNla",
        "outputId": "d357ac66-4572-4c04-8b9b-0cdde9f096c3"
      },
      "outputs": [
        {
          "name": "stdout",
          "output_type": "stream",
          "text": [
            "Collecting gym==0.24\n",
            "  Downloading gym-0.24.0.tar.gz (694 kB)\n",
            "\u001b[2K     \u001b[90m━━━━━━━━━━━━━━━━━━━━━━━━━━━━━━━━━━━━━━━━\u001b[0m \u001b[32m694.4/694.4 kB\u001b[0m \u001b[31m3.3 MB/s\u001b[0m eta \u001b[36m0:00:00\u001b[0m\n",
            "\u001b[?25h  Installing build dependencies ... \u001b[?25l\u001b[?25hdone\n",
            "  Getting requirements to build wheel ... \u001b[?25l\u001b[?25hdone\n",
            "  Preparing metadata (pyproject.toml) ... \u001b[?25l\u001b[?25hdone\n",
            "Requirement already satisfied: numpy>=1.18.0 in /usr/local/lib/python3.10/dist-packages (from gym==0.24) (1.26.4)\n",
            "Requirement already satisfied: cloudpickle>=1.2.0 in /usr/local/lib/python3.10/dist-packages (from gym==0.24) (2.2.1)\n",
            "Requirement already satisfied: gym-notices>=0.0.4 in /usr/local/lib/python3.10/dist-packages (from gym==0.24) (0.0.8)\n",
            "Building wheels for collected packages: gym\n",
            "  Building wheel for gym (pyproject.toml) ... \u001b[?25l\u001b[?25hdone\n",
            "  Created wheel for gym: filename=gym-0.24.0-py3-none-any.whl size=790679 sha256=a8fc2852863b17cc409b633a5720fff7debe17526ea64c57d9426cddf3e00aee\n",
            "  Stored in directory: /root/.cache/pip/wheels/2f/a1/b1/5f4110c8943b36e6cdfcc0e5768481639fa042b3c8357e82cc\n",
            "Successfully built gym\n",
            "Installing collected packages: gym\n",
            "  Attempting uninstall: gym\n",
            "    Found existing installation: gym 0.25.2\n",
            "    Uninstalling gym-0.25.2:\n",
            "      Successfully uninstalled gym-0.25.2\n",
            "Successfully installed gym-0.24.0\n",
            "Requirement already satisfied: pygame in /usr/local/lib/python3.10/dist-packages (2.6.0)\n",
            "Requirement already satisfied: numpy in /usr/local/lib/python3.10/dist-packages (1.26.4)\n",
            "Requirement already satisfied: huggingface_hub in /usr/local/lib/python3.10/dist-packages (0.24.6)\n",
            "Requirement already satisfied: filelock in /usr/local/lib/python3.10/dist-packages (from huggingface_hub) (3.15.4)\n",
            "Requirement already satisfied: fsspec>=2023.5.0 in /usr/local/lib/python3.10/dist-packages (from huggingface_hub) (2024.6.1)\n",
            "Requirement already satisfied: packaging>=20.9 in /usr/local/lib/python3.10/dist-packages (from huggingface_hub) (24.1)\n",
            "Requirement already satisfied: pyyaml>=5.1 in /usr/local/lib/python3.10/dist-packages (from huggingface_hub) (6.0.2)\n",
            "Requirement already satisfied: requests in /usr/local/lib/python3.10/dist-packages (from huggingface_hub) (2.32.3)\n",
            "Requirement already satisfied: tqdm>=4.42.1 in /usr/local/lib/python3.10/dist-packages (from huggingface_hub) (4.66.5)\n",
            "Requirement already satisfied: typing-extensions>=3.7.4.3 in /usr/local/lib/python3.10/dist-packages (from huggingface_hub) (4.12.2)\n",
            "Requirement already satisfied: charset-normalizer<4,>=2 in /usr/local/lib/python3.10/dist-packages (from requests->huggingface_hub) (3.3.2)\n",
            "Requirement already satisfied: idna<4,>=2.5 in /usr/local/lib/python3.10/dist-packages (from requests->huggingface_hub) (3.8)\n",
            "Requirement already satisfied: urllib3<3,>=1.21.1 in /usr/local/lib/python3.10/dist-packages (from requests->huggingface_hub) (2.0.7)\n",
            "Requirement already satisfied: certifi>=2017.4.17 in /usr/local/lib/python3.10/dist-packages (from requests->huggingface_hub) (2024.8.30)\n",
            "Collecting pickle5\n",
            "  Downloading pickle5-0.0.11.tar.gz (132 kB)\n",
            "\u001b[2K     \u001b[90m━━━━━━━━━━━━━━━━━━━━━━━━━━━━━━━━━━━━━━━━\u001b[0m \u001b[32m132.1/132.1 kB\u001b[0m \u001b[31m1.2 MB/s\u001b[0m eta \u001b[36m0:00:00\u001b[0m\n",
            "\u001b[?25h  Preparing metadata (setup.py) ... \u001b[?25l\u001b[?25hdone\n",
            "Building wheels for collected packages: pickle5\n",
            "  Building wheel for pickle5 (setup.py) ... \u001b[?25l\u001b[?25hdone\n",
            "  Created wheel for pickle5: filename=pickle5-0.0.11-cp310-cp310-linux_x86_64.whl size=255312 sha256=a1f7c9296496f8d736eb8e3b2a85a8a2f0fb9d0940ab1d0bc01c98a5825f3ebd\n",
            "  Stored in directory: /root/.cache/pip/wheels/7d/14/ef/4aab19d27fa8e58772be5c71c16add0426acf9e1f64353235c\n",
            "Successfully built pickle5\n",
            "Installing collected packages: pickle5\n",
            "Successfully installed pickle5-0.0.11\n",
            "Collecting pyyaml==6.0\n",
            "  Downloading PyYAML-6.0-cp310-cp310-manylinux_2_5_x86_64.manylinux1_x86_64.manylinux_2_12_x86_64.manylinux2010_x86_64.whl.metadata (2.0 kB)\n",
            "Downloading PyYAML-6.0-cp310-cp310-manylinux_2_5_x86_64.manylinux1_x86_64.manylinux_2_12_x86_64.manylinux2010_x86_64.whl (682 kB)\n",
            "\u001b[2K   \u001b[90m━━━━━━━━━━━━━━━━━━━━━━━━━━━━━━━━━━━━━━━━\u001b[0m \u001b[32m682.2/682.2 kB\u001b[0m \u001b[31m4.2 MB/s\u001b[0m eta \u001b[36m0:00:00\u001b[0m\n",
            "\u001b[?25hInstalling collected packages: pyyaml\n",
            "  Attempting uninstall: pyyaml\n",
            "    Found existing installation: PyYAML 6.0.2\n",
            "    Uninstalling PyYAML-6.0.2:\n",
            "      Successfully uninstalled PyYAML-6.0.2\n",
            "Successfully installed pyyaml-6.0\n",
            "Requirement already satisfied: imageio in /usr/local/lib/python3.10/dist-packages (2.34.2)\n",
            "Requirement already satisfied: numpy in /usr/local/lib/python3.10/dist-packages (from imageio) (1.26.4)\n",
            "Requirement already satisfied: pillow>=8.3.2 in /usr/local/lib/python3.10/dist-packages (from imageio) (9.4.0)\n",
            "Requirement already satisfied: imageio_ffmpeg in /usr/local/lib/python3.10/dist-packages (0.5.1)\n",
            "Requirement already satisfied: setuptools in /usr/local/lib/python3.10/dist-packages (from imageio_ffmpeg) (71.0.4)\n",
            "Collecting pyglet==1.5.1\n",
            "  Downloading pyglet-1.5.1-py2.py3-none-any.whl.metadata (7.6 kB)\n",
            "Downloading pyglet-1.5.1-py2.py3-none-any.whl (1.0 MB)\n",
            "\u001b[2K   \u001b[90m━━━━━━━━━━━━━━━━━━━━━━━━━━━━━━━━━━━━━━━━\u001b[0m \u001b[32m1.0/1.0 MB\u001b[0m \u001b[31m4.7 MB/s\u001b[0m eta \u001b[36m0:00:00\u001b[0m\n",
            "\u001b[?25hInstalling collected packages: pyglet\n",
            "Successfully installed pyglet-1.5.1\n",
            "Requirement already satisfied: tqdm in /usr/local/lib/python3.10/dist-packages (4.66.5)\n"
          ]
        }
      ],
      "source": [
        "#instalando bibliotecas necessárias para criarmos a RL\n",
        "\n",
        "!pip install gym==0.24\n",
        "!pip install pygame\n",
        "!pip install numpy\n",
        "\n",
        "!pip install huggingface_hub\n",
        "!pip install pickle5\n",
        "!pip install pyyaml==6.0\n",
        "!pip install imageio\n",
        "!pip install imageio_ffmpeg\n",
        "!pip install pyglet==1.5.1\n",
        "!pip install tqdm"
      ]
    },
    {
      "cell_type": "code",
      "execution_count": null,
      "metadata": {
        "colab": {
          "base_uri": "https://localhost:8080/"
        },
        "id": "H1wj1rDzhVzo",
        "outputId": "6f804be6-f714-43b4-dc93-7bf297b46f23"
      },
      "outputs": [
        {
          "name": "stderr",
          "output_type": "stream",
          "text": [
            "Warning: Gym version v0.24.0 has a number of critical issues with `gym.make` such that the `reset` and `step` functions are called before returning the environment. It is recommend to downgrading to v0.23.1 or upgrading to v0.25.1\n"
          ]
        }
      ],
      "source": [
        "#fazendo os imports necessários\n",
        "\n",
        "import numpy as np\n",
        "import gym\n",
        "import random\n",
        "import imageio\n",
        "import os\n",
        "import tqdm\n",
        "import time\n",
        "import matplotlib.pyplot as plt\n",
        "\n",
        "import pickle5 as pickle\n",
        "from tqdm.notebook import tqdm"
      ]
    },
    {
      "cell_type": "code",
      "execution_count": null,
      "metadata": {
        "colab": {
          "base_uri": "https://localhost:8080/",
          "height": 413
        },
        "id": "tn1k1go9hZgY",
        "outputId": "46a25fff-cbc8-4c42-c750-eff8f5285838"
      },
      "outputs": [
        {
          "data": {
            "text/plain": [
              "<matplotlib.image.AxesImage at 0x7a3940576f50>"
            ]
          },
          "execution_count": 346,
          "metadata": {},
          "output_type": "execute_result"
        },
        {
          "data": {
            "image/png": "[encoded data removed]",
            "text/plain": [
              "<Figure size 640x480 with 1 Axes>"
            ]
          },
          "metadata": {},
          "output_type": "display_data"
        }
      ],
      "source": [
        "# plotando a imagem do ambiente do jogo\n",
        "\n",
        "\n",
        "env = gym.make('MountainCar-v0')\n",
        "\n",
        "img = env.render(mode='rgb_array')\n",
        "plt.imshow(img)"
      ]
    },
    {
      "cell_type": "code",
      "execution_count": null,
      "metadata": {
        "colab": {
          "base_uri": "https://localhost:8080/"
        },
        "id": "KBLk2nV6haMQ",
        "outputId": "d43c7948-9068-46ea-bd05-2f571a771f7a"
      },
      "outputs": [
        {
          "name": "stdout",
          "output_type": "stream",
          "text": [
            "_____OBSERVATION SPACE_____ \n",
            "\n",
            "Observation Space Box([-1.2  -0.07], [0.6  0.07], (2,), float32)\n",
            "Sample observation [0.4074436  0.05998963]\n"
          ]
        }
      ],
      "source": [
        "#extraindo informações sobre o ambiente\n",
        "\n",
        "print(\"_____OBSERVATION SPACE_____ \\n\")\n",
        "print(\"Observation Space\", env.observation_space)\n",
        "print(\"Sample observation\", env.observation_space.sample())"
      ]
    },
    {
      "cell_type": "code",
      "execution_count": null,
      "metadata": {
        "colab": {
          "base_uri": "https://localhost:8080/"
        },
        "id": "zhWKfQwZhcMT",
        "outputId": "bd073e2d-9a66-4dfa-e0f5-262f659d7a18"
      },
      "outputs": [
        {
          "name": "stdout",
          "output_type": "stream",
          "text": [
            "\n",
            " _____ACTION SPACE_____ \n",
            "\n",
            "Action Space Shape 3\n",
            "Action Space Sample 0\n"
          ]
        }
      ],
      "source": [
        "print(\"\\n _____ACTION SPACE_____ \\n\")\n",
        "print(\"Action Space Shape\", env.action_space.n)\n",
        "print(\"Action Space Sample\", env.action_space.sample()) # pegar um ação qualquer\n",
        "# Aqui podemos ver que o jogo possui 3 ações para o agente que são: \"acelerar para cima\" , \"acelerar para trás\" e nada"
      ]
    },
    {
      "cell_type": "code",
      "execution_count": null,
      "metadata": {
        "id": "_wQ5o8RRipdi"
      },
      "outputs": [],
      "source": [
        "# Vamos criar nossa Qtable de tamanho (state_space, action_space) e inicializar cada valor em 0 usando np.zeros\n",
        "# nossa Q-table vai ter ações como colunas e estados como linhas, logo vai ser uma 3x2, pois tem 3 ações e o ambiente tem 2 estados possíveis\n",
        "def initialize_q_table(state_space, action_space):\n",
        "  Qtable = np.zeros((state_space, action_space))\n",
        "  return Qtable"
      ]
    },
    {
      "cell_type": "code",
      "execution_count": null,
      "metadata": {
        "colab": {
          "base_uri": "https://localhost:8080/"
        },
        "id": "2OBmkrPbjdEe",
        "outputId": "d81fc89a-5672-44b1-e077-9c9b509eae54"
      },
      "outputs": [
        {
          "name": "stdout",
          "output_type": "stream",
          "text": [
            "There are  2  possible states\n",
            "There are  3  possible actions\n"
          ]
        }
      ],
      "source": [
        "\n",
        "state_space = env.observation_space.shape[0]\n",
        "print(\"There are \", state_space, \" possible states\")\n",
        "\n",
        "action_space = env.action_space.n\n",
        "print(\"There are \", action_space, \" possible actions\")"
      ]
    },
    {
      "cell_type": "code",
      "execution_count": null,
      "metadata": {
        "id": "lM2BLt4YjFLo"
      },
      "outputs": [],
      "source": [
        "Qtable= initialize_q_table(state_space, action_space)"
      ]
    },
    {
      "cell_type": "code",
      "execution_count": null,
      "metadata": {
        "colab": {
          "base_uri": "https://localhost:8080/"
        },
        "id": "EMm7wtzNk_qJ",
        "outputId": "cdca6e32-4571-4181-cafa-bace9367cf63"
      },
      "outputs": [
        {
          "data": {
            "text/plain": [
              "array([[0., 0., 0.],\n",
              "       [0., 0., 0.]])"
            ]
          },
          "execution_count": 12,
          "metadata": {},
          "output_type": "execute_result"
        }
      ],
      "source": [
        "Qtable"
      ]
    },
    {
      "cell_type": "markdown",
      "metadata": {
        "id": "BuM7ZWHNlRY_"
      },
      "source": [
        "Assim, achamos nossa Q-table de 3 colunas(ações) e 2 (linhas), entretanto percebemos que não tem como cada possível ação levar apenas a 2 estados possíveis, não faz sentido ter (ação < estados possíveis). Portanto vou separar os intervalo de posição e velocidade em um intervalos de bins para aprimorar o problema\n",
        "---\n",
        "\n"
      ]
    },
    {
      "cell_type": "code",
      "execution_count": null,
      "metadata": {
        "id": "dy0vaBaTwdeZ"
      },
      "outputs": [],
      "source": [
        "# Função para converter estado contínuo em um índice único, para que possamos acessar esse índice na tabela\n",
        "\n",
        "def state_to_index(state, state_bins):\n",
        "    index = 0\n",
        "    for i, val in enumerate(state):\n",
        "        bin_index = np.digitize(val, state_bins[i]) - 1\n",
        "\n",
        "        # Garantir que o índice de bin não seja negativo\n",
        "        bin_index = max(bin_index, 0)\n",
        "\n",
        "        index += int(bin_index * np.prod([len(bins) for bins in state_bins[i+1:]]))\n",
        "\n",
        "    # Garantir que o índice final está dentro dos limites esperados\n",
        "    if index < 0:\n",
        "        raise ValueError(f\"Índice de estado calculado é negativo: {index}\")\n",
        "\n",
        "    return int(index)\n"
      ]
    },
    {
      "cell_type": "markdown",
      "metadata": {
        "id": "wQI_t0I49E_6"
      },
      "source": [
        "a célula anterior foi a parte mais complicada do código,pois muitas vezes que tentava acessar o índice na Q-table, era me retornado um índice de ponto flutuante ou negativo, que a tabela nunca iria reconhecer, então botei umas validações para evitar esse problema\n"
      ]
    },
    {
      "cell_type": "code",
      "execution_count": null,
      "metadata": {
        "id": "pgY3EmzdmRmw"
      },
      "outputs": [],
      "source": [
        "#aqui eu separei em bins para discretizar a velocidade e a posição de maneira mais intuitiva\n",
        "# Se eu quisesse fragmentar em mais bins , como 50 por exemplo ia ter mais informações sobre o modelo\n",
        "\n",
        "def initialize_q_table(n_position_bins, n_velocity_bins, action_space):\n",
        "    state_space = n_position_bins * n_velocity_bins\n",
        "    Qtable = np.zeros((state_space, action_space))\n",
        "    return Qtable\n",
        "\n",
        "# 20 bins para posição e 20 bins para velocidade\n",
        "n_position_bins = 20\n",
        "n_velocity_bins = 20\n",
        "action_space = env.action_space.n\n",
        "\n",
        "Qtable = initialize_q_table(n_position_bins, n_velocity_bins, action_space)\n"
      ]
    },
    {
      "cell_type": "code",
      "execution_count": null,
      "metadata": {
        "colab": {
          "base_uri": "https://localhost:8080/"
        },
        "id": "iR3Iqq9Dmd7P",
        "outputId": "4403b009-c8f4-4abd-c8c7-b13e4571026a"
      },
      "outputs": [
        {
          "data": {
            "text/plain": [
              "array([[0., 0., 0.],\n",
              "       [0., 0., 0.],\n",
              "       [0., 0., 0.],\n",
              "       ...,\n",
              "       [0., 0., 0.],\n",
              "       [0., 0., 0.],\n",
              "       [0., 0., 0.]])"
            ]
          },
          "execution_count": 376,
          "metadata": {},
          "output_type": "execute_result"
        }
      ],
      "source": [
        "Qtable"
      ]
    },
    {
      "cell_type": "code",
      "execution_count": null,
      "metadata": {
        "colab": {
          "base_uri": "https://localhost:8080/"
        },
        "id": "_keWBIn3mg7A",
        "outputId": "ed70a443-1d7d-4fba-c8e8-7893a64c4900"
      },
      "outputs": [
        {
          "data": {
            "text/plain": [
              "(400, 3)"
            ]
          },
          "execution_count": 377,
          "metadata": {},
          "output_type": "execute_result"
        }
      ],
      "source": [
        "Qtable.shape"
      ]
    },
    {
      "cell_type": "markdown",
      "metadata": {
        "id": "OL6-pvkemuuR"
      },
      "source": [
        "Agora, faz muito mais sentido, pois existem 400 estados possiveis e 3 ações para o agente realizar.Assim, usando o formato de bins Cada linha da Q-table representará um estado discretizado, e cada coluna representará uma ação possível, tornando nossa Q-table muito mais completa."
      ]
    },
    {
      "cell_type": "code",
      "execution_count": null,
      "metadata": {
        "id": "H7biKRMFnHU3"
      },
      "outputs": [],
      "source": [
        "#vamos definir nossa greedy_policy, que é uma política relacionada a exploration e exploitation\n",
        "# primeiramente o agente vai priorizar e exploration e comforme o tempo for passando ele vai preferindo o amibente mais seguro possível\n",
        "#entretanto, vamos definir um valor mínimo de epsilon para ele continuar explorando menos no final mas não cessar a exploração\n",
        "def greedy_policy(Qtable, state):\n",
        "  action = np.argmax(Qtable[state][:])\n",
        "\n",
        "  return action"
      ]
    },
    {
      "cell_type": "code",
      "execution_count": null,
      "metadata": {
        "id": "CdynnF95oEMH"
      },
      "outputs": [],
      "source": [
        "import random\n",
        "\n",
        "random.seed(50)\n",
        "np.random.seed(50)\n",
        "\n",
        "def epsilon_greedy_policy(Qtable, state, epsilon, seed=50):\n",
        "    # Definir a semente para garantir consistência\n",
        "    random.seed(seed)\n",
        "\n",
        "    # Gera aleatoriamente um número entre 0 e 1\n",
        "    random_int = random.uniform(0, 1)\n",
        "\n",
        "    # if random_int > epsilon --> exploitation (escolher a melhor ação conhecida)\n",
        "    if random_int > epsilon:\n",
        "        action = greedy_policy(Qtable, state)\n",
        "    else:\n",
        "        action = env.action_space.sample()  # Escolhe uma ação aleatória\n",
        "\n",
        "    return action\n",
        "\n",
        "\n"
      ]
    },
    {
      "cell_type": "code",
      "execution_count": null,
      "metadata": {
        "id": "_EvEUb3xon07"
      },
      "outputs": [],
      "source": [
        "# Parâmetros de treinamento\n",
        "n_training_episodes = 12000  # Aumentei o número de episódios para explorar mais variações no aprendizado\n",
        "learning_rate = 0.65  # Reduzi um pouco a taxa de aprendizado para ver se a estabilidade melhora ainda mais\n",
        "\n",
        "# Parâmetros de avaliação\n",
        "n_eval_episodes = 100  # Mantive o mesmo número de episódios de avaliação\n",
        "\n",
        "# Parâmetros do ambiente\n",
        "env_id = \"MountainCar-v0\"  # Nome do ambiente\n",
        "max_steps = 2000  # Aumentei o número de passos para dar mais flexibilidade ao carrinho e garantir que ele chegue à bandeira\n",
        "gamma = 0.93  # Aumentei ligeiramente para incentivar um pouco mais as recompensas futuras, ajudando o carrinho a planejar melhor\n",
        "\n",
        "# Parâmetros de exploração\n",
        "max_epsilon = 1.0  # Mantive para permitir alta exploração no início\n",
        "min_epsilon = 0.02  # Aumentei um pouco a exploração mínima para testar se o agente encontra melhores estratégias ao final\n",
        "decay_rate = 0.0009  # Ajustei o decaimento para permitir uma transição mais gradual para exploração\n",
        "\n",
        "\n",
        "\n",
        "\n"
      ]
    },
    {
      "cell_type": "code",
      "execution_count": null,
      "metadata": {
        "id": "gDITWmwBpr2C"
      },
      "outputs": [],
      "source": [
        "# Função de treinamento\n",
        "def train(n_training_episodes, min_epsilon, max_epsilon, decay_rate, env, max_steps, Qtable, state_bins):\n",
        "    for episode in tqdm(range(n_training_episodes)):\n",
        "        epsilon = min_epsilon + (max_epsilon - min_epsilon) * np.exp(-decay_rate * episode)\n",
        "\n",
        "        # Redefinir o ambiente e converter o estado inicial em um índice único\n",
        "        state = state_to_index(env.reset(), state_bins)\n",
        "\n",
        "        # Valide se o estado é um inteiro válido\n",
        "        if not isinstance(state, int) or state < 0 or state >= Qtable.shape[0]:\n",
        "            raise ValueError(f\"Estado inválido: {state}\")\n",
        "\n",
        "        done = False\n",
        "\n",
        "        for step in range(max_steps):\n",
        "            # Escolha a ação At para usar a política epsilon-greedy\n",
        "            action = epsilon_greedy_policy(Qtable, state, epsilon)\n",
        "\n",
        "            # Execute a ação  e observe o novo estado e a recompensa\n",
        "            new_state, reward, done, info = env.step(action)\n",
        "            new_state = state_to_index(new_state, state_bins)  # Converte o novo estado em um índice único\n",
        "\n",
        "            # Valide se o novo estado é um inteiro válido\n",
        "            if not isinstance(new_state, int) or new_state < 0 or new_state >= Qtable.shape[0]:\n",
        "                raise ValueError(f\"Novo estado inválido: {new_state}\")\n",
        "\n",
        "            # Atualiza Q(s,a):= Q(s,a) + lr [R(s,a) + gamma * max Q(s',a') - Q(s,a)]\n",
        "            #parte muito importante,pois atualiza os Q-values com base nas ações e estados atuais\n",
        "            Qtable[state][action] = Qtable[state][action] + learning_rate * (\n",
        "                reward + gamma * np.max(Qtable[new_state]) - Qtable[state][action])\n",
        "\n",
        "            if done:\n",
        "                break\n",
        "\n",
        "            state = new_state\n",
        "    return Qtable\n",
        "\n"
      ]
    },
    {
      "cell_type": "code",
      "execution_count": null,
      "metadata": {
        "id": "dUwsSDsBwLFX"
      },
      "outputs": [],
      "source": [
        "state_bins = [np.linspace(-1.2, 0.6, n_position_bins), np.linspace(-0.07, 0.07, n_velocity_bins)]"
      ]
    },
    {
      "cell_type": "code",
      "execution_count": null,
      "metadata": {
        "colab": {
          "base_uri": "https://localhost:8080/",
          "height": 49,
          "referenced_widgets": [
            "0981713e46034b5a89d2da8f0ab5f436",
            "15d8de0583d54e94b7934c8aaa698456",
            "8d04b7e186cc4b939d0449f36fe7746f",
            "099e7de25fba4c7b870ee3043e9a9fa6",
            "70675650258b424f921ef1f3a0f99983",
            "b0f5c61bf98c45329c454c327a3cfffa",
            "37ee091f3f07453ead93afc4026750d8",
            "ae2768fd811e41f5b68f8aac9843d3ea",
            "977ebfff9ab2487795ecac6505003aba",
            "3b87f856ada144e6bd029265980f0270",
            "83ef930d73714859800528c048528f87"
          ]
        },
        "id": "yLMP7ikVp74D",
        "outputId": "29c79df8-8aaf-4295-8097-0cde702f0f9c"
      },
      "outputs": [
        {
          "data": {
            "application/vnd.jupyter.widget-view+json": {
              "model_id": "0981713e46034b5a89d2da8f0ab5f436",
              "version_major": 2,
              "version_minor": 0
            },
            "text/plain": [
              "  0%|          | 0/12000 [00:00<?, ?it/s]"
            ]
          },
          "metadata": {},
          "output_type": "display_data"
        }
      ],
      "source": [
        "Qtable = train(n_training_episodes, min_epsilon, max_epsilon, decay_rate, env, max_steps, Qtable, state_bins)"
      ]
    },
    {
      "cell_type": "code",
      "execution_count": null,
      "metadata": {
        "colab": {
          "base_uri": "https://localhost:8080/"
        },
        "id": "G45qEzAX5Tuv",
        "outputId": "abb378ca-4793-47c7-b5c4-7f89e66ddd6d"
      },
      "outputs": [
        {
          "data": {
            "text/plain": [
              "array([[  0.        ,   0.        ,   0.        ],\n",
              "       [ -8.83246502,  -8.8042868 ,  -8.77250049],\n",
              "       [-13.80438381, -13.81505045, -13.69476809],\n",
              "       ...,\n",
              "       [  0.        ,   0.        ,   0.        ],\n",
              "       [  0.        ,   0.        ,   0.        ],\n",
              "       [  0.        ,   0.        ,   0.        ]])"
            ]
          },
          "execution_count": 394,
          "metadata": {},
          "output_type": "execute_result"
        }
      ],
      "source": [
        "Qtable"
      ]
    },
    {
      "cell_type": "code",
      "execution_count": null,
      "metadata": {
        "id": "iYrGn64c5e6W"
      },
      "outputs": [],
      "source": [
        "def evaluate_agent(env, max_steps, n_eval_episodes, Q, seed, epsilon=0.05):\n",
        "  episode_rewards = []\n",
        "  for episode in tqdm(range(n_eval_episodes)):\n",
        "    if seed:\n",
        "      state = env.reset(seed=seed[episode])\n",
        "    else:\n",
        "      state = env.reset()\n",
        "\n",
        "    step = 0\n",
        "    done = False\n",
        "    total_rewards_ep = 0\n",
        "\n",
        "    for step in range(max_steps):\n",
        "      # Use a política epsilon-greedy com uma semente fixa\n",
        "      action = epsilon_greedy_policy(Q, state, epsilon, seed=50)\n",
        "\n",
        "      # Executa a ação escolhida no ambiente\n",
        "      new_state, reward, done, info = env.step(action)\n",
        "      total_rewards_ep += reward\n",
        "\n",
        "      if done:\n",
        "        break\n",
        "      state = new_state\n",
        "\n",
        "    episode_rewards.append(total_rewards_ep)\n",
        "\n",
        "  mean_reward = np.mean(episode_rewards)\n",
        "  std_reward = np.std(episode_rewards)\n",
        "\n",
        "  return mean_reward, std_reward\n"
      ]
    },
    {
      "cell_type": "code",
      "execution_count": null,
      "metadata": {
        "id": "kClxV1PN5nMd"
      },
      "outputs": [],
      "source": [
        "import imageio\n",
        "import numpy as np\n",
        "import random\n",
        "from PIL import Image\n",
        "\n",
        "def resize_image(image, block_size=16):\n",
        "    width, height = image.size\n",
        "    new_width = (width + block_size - 1) // block_size * block_size\n",
        "    new_height = (height + block_size - 1) // block_size * block_size\n",
        "    return image.resize((new_width, new_height))\n",
        "\n",
        "#mudando o fps para 15, para podermos ver os movimentos do carrinho com maior exatidão\n",
        "# Gravação de vídeo com semente fixa para o ambiente\n",
        "def record_video(env, Qtable, out_directory, state_bins, fps=15):\n",
        "    images = []\n",
        "    done = False\n",
        "    state = env.reset(seed=50)  # Semente fixa para garantir reprodutibilidade\n",
        "    state = state_to_index(state, state_bins)\n",
        "    img = Image.fromarray(env.render(mode='rgb_array'))\n",
        "    img = resize_image(img)\n",
        "    images.append(np.array(img))\n",
        "\n",
        "    step = 0\n",
        "    while not done:\n",
        "        action = np.argmax(Qtable[state][:])\n",
        "        next_state, reward, done, info = env.step(action)\n",
        "        state = state_to_index(next_state, state_bins)\n",
        "        img = Image.fromarray(env.render(mode='rgb_array'))\n",
        "        img = resize_image(img)\n",
        "        images.append(np.array(img))\n",
        "        step += 1\n",
        "\n",
        "    imageio.mimsave(out_directory, images, fps=fps)\n",
        "\n",
        "# Caminho do vídeo\n",
        "video_path = \"replay.mp4\"\n",
        "\n",
        "# Gravar o vídeo\n",
        "record_video(env, Qtable, video_path, state_bins, fps=15)\n",
        "\n"
      ]
    },
    {
      "cell_type": "code",
      "execution_count": null,
      "metadata": {
        "colab": {
          "base_uri": "https://localhost:8080/",
          "height": 285
        },
        "id": "Y0SpzfLA6_jA",
        "outputId": "d7c7fbdd-d69b-4ad4-f0ee-b787437a5439"
      },
      "outputs": [
        {
          "data": {
            "text/html": [
              "\n",
              "<video width=400 controls>\n",
              "      <source src=\"data:video/mp4;base64,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\" type=\"video/mp4\">\n",
              "</video>\n"
            ],
            "text/plain": [
              "<IPython.core.display.HTML object>"
            ]
          },
          "execution_count": 397,
          "metadata": {},
          "output_type": "execute_result"
        }
      ],
      "source": [
        "from IPython.display import HTML\n",
        "from base64 import b64encode\n",
        "import os\n",
        "\n",
        "\n",
        "# Show video\n",
        "mp4 = open(video_path,'rb').read()\n",
        "data_url = \"data:video/mp4;base64,\" + b64encode(mp4).decode()\n",
        "HTML(\"\"\"\n",
        "<video width=400 controls>\n",
        "      <source src=\"%s\" type=\"video/mp4\">\n",
        "</video>\n",
        "\"\"\" % data_url)"
      ]
    },
    {
      "cell_type": "markdown",
      "metadata": {
        "id": "chcA7vqIbOAX"
      },
      "source": [
        "mudei o fps para fps=15, para podermos ver o vídeo com maior exatidão."
      ]
    },
    {
      "cell_type": "markdown",
      "metadata": {
        "id": "9v7AIxlX7kUX"
      },
      "source": [
        "\n",
        "\n",
        "Para que meu agente conseguisse atravessar a bandeira, troquei alguns parâmetros (taxa de aprendizado, gamma e epsilon)\n",
        "\n",
        "\n",
        "Taxa de aprendizado(alpha): Ao reduzir o valor para 0.7, o aprendizado ocorre de maneira mais gradual, evitando que o agente oscile muito entre decisões diferentes.\n",
        "\n",
        "gamma: Ajustar para 0.90 faz com que o agente priorize recompensas a curto prazo\n",
        "\n",
        "Exploração: Diminuir o valor mínimo de epsilon (min_epsilon = 0.01) e a taxa de decaimento (decay_rate = 0.001) permitirá que o agente explore mais antes de se estabilizar e focar em recompensas mais estáveis\n",
        "\n",
        "\n"
      ]
    },
    {
      "cell_type": "markdown",
      "metadata": {
        "id": "ZQgYlDFW-XE_"
      },
      "source": [
        "Com isso, agora o modelo possui êxito e o agente após aprender com o ambiente, consegue chegar no final da bandeira.:"
      ]
    }
  ],
  "metadata": {
    "colab": {
      "provenance": []
    },
    "kernelspec": {
      "display_name": "Python 3",
      "name": "python3"
    },
    "language_info": {
      "name": "python"
    },
    "widgets": {
      "application/vnd.jupyter.widget-state+json": {
        "0981713e46034b5a89d2da8f0ab5f436": {
          "model_module": "@jupyter-widgets/controls",
          "model_module_version": "1.5.0",
          "model_name": "HBoxModel",
          "state": {
            "_dom_classes": [],
            "_model_module": "@jupyter-widgets/controls",
            "_model_module_version": "1.5.0",
            "_model_name": "HBoxModel",
            "_view_count": null,
            "_view_module": "@jupyter-widgets/controls",
            "_view_module_version": "1.5.0",
            "_view_name": "HBoxView",
            "box_style": "",
            "children": [
              "IPY_MODEL_15d8de0583d54e94b7934c8aaa698456",
              "IPY_MODEL_8d04b7e186cc4b939d0449f36fe7746f",
              "IPY_MODEL_099e7de25fba4c7b870ee3043e9a9fa6"
            ],
            "layout": "IPY_MODEL_70675650258b424f921ef1f3a0f99983"
          }
        },
        "099e7de25fba4c7b870ee3043e9a9fa6": {
          "model_module": "@jupyter-widgets/controls",
          "model_module_version": "1.5.0",
          "model_name": "HTMLModel",
          "state": {
            "_dom_classes": [],
            "_model_module": "@jupyter-widgets/controls",
            "_model_module_version": "1.5.0",
            "_model_name": "HTMLModel",
            "_view_count": null,
            "_view_module": "@jupyter-widgets/controls",
            "_view_module_version": "1.5.0",
            "_view_name": "HTMLView",
            "description": "",
            "description_tooltip": null,
            "layout": "IPY_MODEL_3b87f856ada144e6bd029265980f0270",
            "placeholder": "​",
            "style": "IPY_MODEL_83ef930d73714859800528c048528f87",
            "value": " 12000/12000 [04:16&lt;00:00, 50.29it/s]"
          }
        },
        "15d8de0583d54e94b7934c8aaa698456": {
          "model_module": "@jupyter-widgets/controls",
          "model_module_version": "1.5.0",
          "model_name": "HTMLModel",
          "state": {
            "_dom_classes": [],
            "_model_module": "@jupyter-widgets/controls",
            "_model_module_version": "1.5.0",
            "_model_name": "HTMLModel",
            "_view_count": null,
            "_view_module": "@jupyter-widgets/controls",
            "_view_module_version": "1.5.0",
            "_view_name": "HTMLView",
            "description": "",
            "description_tooltip": null,
            "layout": "IPY_MODEL_b0f5c61bf98c45329c454c327a3cfffa",
            "placeholder": "​",
            "style": "IPY_MODEL_37ee091f3f07453ead93afc4026750d8",
            "value": "100%"
          }
        },
        "37ee091f3f07453ead93afc4026750d8": {
          "model_module": "@jupyter-widgets/controls",
          "model_module_version": "1.5.0",
          "model_name": "DescriptionStyleModel",
          "state": {
            "_model_module": "@jupyter-widgets/controls",
            "_model_module_version": "1.5.0",
            "_model_name": "DescriptionStyleModel",
            "_view_count": null,
            "_view_module": "@jupyter-widgets/base",
            "_view_module_version": "1.2.0",
            "_view_name": "StyleView",
            "description_width": ""
          }
        },
        "3b87f856ada144e6bd029265980f0270": {
          "model_module": "@jupyter-widgets/base",
          "model_module_version": "1.2.0",
          "model_name": "LayoutModel",
          "state": {
            "_model_module": "@jupyter-widgets/base",
            "_model_module_version": "1.2.0",
            "_model_name": "LayoutModel",
            "_view_count": null,
            "_view_module": "@jupyter-widgets/base",
            "_view_module_version": "1.2.0",
            "_view_name": "LayoutView",
            "align_content": null,
            "align_items": null,
            "align_self": null,
            "border": null,
            "bottom": null,
            "display": null,
            "flex": null,
            "flex_flow": null,
            "grid_area": null,
            "grid_auto_columns": null,
            "grid_auto_flow": null,
            "grid_auto_rows": null,
            "grid_column": null,
            "grid_gap": null,
            "grid_row": null,
            "grid_template_areas": null,
            "grid_template_columns": null,
            "grid_template_rows": null,
            "height": null,
            "justify_content": null,
            "justify_items": null,
            "left": null,
            "margin": null,
            "max_height": null,
            "max_width": null,
            "min_height": null,
            "min_width": null,
            "object_fit": null,
            "object_position": null,
            "order": null,
            "overflow": null,
            "overflow_x": null,
            "overflow_y": null,
            "padding": null,
            "right": null,
            "top": null,
            "visibility": null,
            "width": null
          }
        },
        "70675650258b424f921ef1f3a0f99983": {
          "model_module": "@jupyter-widgets/base",
          "model_module_version": "1.2.0",
          "model_name": "LayoutModel",
          "state": {
            "_model_module": "@jupyter-widgets/base",
            "_model_module_version": "1.2.0",
            "_model_name": "LayoutModel",
            "_view_count": null,
            "_view_module": "@jupyter-widgets/base",
            "_view_module_version": "1.2.0",
            "_view_name": "LayoutView",
            "align_content": null,
            "align_items": null,
            "align_self": null,
            "border": null,
            "bottom": null,
            "display": null,
            "flex": null,
            "flex_flow": null,
            "grid_area": null,
            "grid_auto_columns": null,
            "grid_auto_flow": null,
            "grid_auto_rows": null,
            "grid_column": null,
            "grid_gap": null,
            "grid_row": null,
            "grid_template_areas": null,
            "grid_template_columns": null,
            "grid_template_rows": null,
            "height": null,
            "justify_content": null,
            "justify_items": null,
            "left": null,
            "margin": null,
            "max_height": null,
            "max_width": null,
            "min_height": null,
            "min_width": null,
            "object_fit": null,
            "object_position": null,
            "order": null,
            "overflow": null,
            "overflow_x": null,
            "overflow_y": null,
            "padding": null,
            "right": null,
            "top": null,
            "visibility": null,
            "width": null
          }
        },
        "83ef930d73714859800528c048528f87": {
          "model_module": "@jupyter-widgets/controls",
          "model_module_version": "1.5.0",
          "model_name": "DescriptionStyleModel",
          "state": {
            "_model_module": "@jupyter-widgets/controls",
            "_model_module_version": "1.5.0",
            "_model_name": "DescriptionStyleModel",
            "_view_count": null,
            "_view_module": "@jupyter-widgets/base",
            "_view_module_version": "1.2.0",
            "_view_name": "StyleView",
            "description_width": ""
          }
        },
        "8d04b7e186cc4b939d0449f36fe7746f": {
          "model_module": "@jupyter-widgets/controls",
          "model_module_version": "1.5.0",
          "model_name": "FloatProgressModel",
          "state": {
            "_dom_classes": [],
            "_model_module": "@jupyter-widgets/controls",
            "_model_module_version": "1.5.0",
            "_model_name": "FloatProgressModel",
            "_view_count": null,
            "_view_module": "@jupyter-widgets/controls",
            "_view_module_version": "1.5.0",
            "_view_name": "ProgressView",
            "bar_style": "success",
            "description": "",
            "description_tooltip": null,
            "layout": "IPY_MODEL_ae2768fd811e41f5b68f8aac9843d3ea",
            "max": 12000,
            "min": 0,
            "orientation": "horizontal",
            "style": "IPY_MODEL_977ebfff9ab2487795ecac6505003aba",
            "value": 12000
          }
        },
        "977ebfff9ab2487795ecac6505003aba": {
          "model_module": "@jupyter-widgets/controls",
          "model_module_version": "1.5.0",
          "model_name": "ProgressStyleModel",
          "state": {
            "_model_module": "@jupyter-widgets/controls",
            "_model_module_version": "1.5.0",
            "_model_name": "ProgressStyleModel",
            "_view_count": null,
            "_view_module": "@jupyter-widgets/base",
            "_view_module_version": "1.2.0",
            "_view_name": "StyleView",
            "bar_color": null,
            "description_width": ""
          }
        },
        "ae2768fd811e41f5b68f8aac9843d3ea": {
          "model_module": "@jupyter-widgets/base",
          "model_module_version": "1.2.0",
          "model_name": "LayoutModel",
          "state": {
            "_model_module": "@jupyter-widgets/base",
            "_model_module_version": "1.2.0",
            "_model_name": "LayoutModel",
            "_view_count": null,
            "_view_module": "@jupyter-widgets/base",
            "_view_module_version": "1.2.0",
            "_view_name": "LayoutView",
            "align_content": null,
            "align_items": null,
            "align_self": null,
            "border": null,
            "bottom": null,
            "display": null,
            "flex": null,
            "flex_flow": null,
            "grid_area": null,
            "grid_auto_columns": null,
            "grid_auto_flow": null,
            "grid_auto_rows": null,
            "grid_column": null,
            "grid_gap": null,
            "grid_row": null,
            "grid_template_areas": null,
            "grid_template_columns": null,
            "grid_template_rows": null,
            "height": null,
            "justify_content": null,
            "justify_items": null,
            "left": null,
            "margin": null,
            "max_height": null,
            "max_width": null,
            "min_height": null,
            "min_width": null,
            "object_fit": null,
            "object_position": null,
            "order": null,
            "overflow": null,
            "overflow_x": null,
            "overflow_y": null,
            "padding": null,
            "right": null,
            "top": null,
            "visibility": null,
            "width": null
          }
        },
        "b0f5c61bf98c45329c454c327a3cfffa": {
          "model_module": "@jupyter-widgets/base",
          "model_module_version": "1.2.0",
          "model_name": "LayoutModel",
          "state": {
            "_model_module": "@jupyter-widgets/base",
            "_model_module_version": "1.2.0",
            "_model_name": "LayoutModel",
            "_view_count": null,
            "_view_module": "@jupyter-widgets/base",
            "_view_module_version": "1.2.0",
            "_view_name": "LayoutView",
            "align_content": null,
            "align_items": null,
            "align_self": null,
            "border": null,
            "bottom": null,
            "display": null,
            "flex": null,
            "flex_flow": null,
            "grid_area": null,
            "grid_auto_columns": null,
            "grid_auto_flow": null,
            "grid_auto_rows": null,
            "grid_column": null,
            "grid_gap": null,
            "grid_row": null,
            "grid_template_areas": null,
            "grid_template_columns": null,
            "grid_template_rows": null,
            "height": null,
            "justify_content": null,
            "justify_items": null,
            "left": null,
            "margin": null,
            "max_height": null,
            "max_width": null,
            "min_height": null,
            "min_width": null,
            "object_fit": null,
            "object_position": null,
            "order": null,
            "overflow": null,
            "overflow_x": null,
            "overflow_y": null,
            "padding": null,
            "right": null,
            "top": null,
            "visibility": null,
            "width": null
          }
        }
      }
    }
  },
  "nbformat": 4,
  "nbformat_minor": 0
}
